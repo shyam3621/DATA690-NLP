{
 "cells": [
  {
   "cell_type": "markdown",
   "id": "814225f4",
   "metadata": {},
   "source": [
    "## Exercise 1\n",
    "\n",
    "1) Use the train.tsv dataset at https://www.kaggle.com/c/sentiment-analysis-on-\n",
    "movie-reviews/data\n",
    "\n",
    "2) Take a look at the data and get info about the data\n",
    "\n",
    "3) Count the number of expressed sentiments by category\n",
    "\n",
    "4) Provide a histogram of sentiments by category\n",
    "\n",
    "5) Generate document term matrix by using scikit-learn's CountVectorizer. Tokenize\n",
    "and remove symbols and numbers\n",
    "\n",
    "6) Split dataset (the test dataset represents 30% of the total data).\n",
    "\n",
    "7) Import the MultinomialNB module and create a Multinomial Naive Bayes\n",
    "classifier object using MultinomialNB() function. Compute the model accuracy.\n",
    "\n",
    "8) TF-IDF(Term Frequency-Inverse Document Frequency) normalizes the\n",
    "document term matrix. It is the product of TF and IDF. Word with high tf-idf in a\n",
    "document, it is most of the times occurred in given documents and must be\n",
    "absent in the other documents. So, the words must be a signature word. Use\n",
    "TfidfVectorizer() for 'Phrase'.\n",
    "\n",
    "9) Split dataset by using function train_test_split(). You need to pass basically 3\n",
    "parameters features, target, and test_set size. Additionally, you can use\n",
    "random_state to select records randomly.\n",
    "\n",
    "10. Build the Text Classification Model using TF-IDF.\n",
    "\n",
    "11.First, import the MultinomialNB module and create the Multinomial Naive Bayes\n",
    "classifier object using MultinomialNB() function.\n",
    "\n",
    "12. Then, fit your model on a train set using fit() and perform prediction on the test set using predict()."
   ]
  },
  {
   "cell_type": "code",
   "execution_count": 1,
   "id": "0d99d839",
   "metadata": {},
   "outputs": [],
   "source": [
    "import pandas as pd\n",
    "import matplotlib.pyplot as plt\n",
    "from sklearn.feature_extraction.text import CountVectorizer, TfidfVectorizer\n",
    "from sklearn.model_selection import train_test_split\n",
    "from sklearn.naive_bayes import MultinomialNB\n",
    "from sklearn.metrics import accuracy_score\n",
    "\n"
   ]
  },
  {
   "cell_type": "code",
   "execution_count": 2,
   "id": "fb791d71",
   "metadata": {},
   "outputs": [
    {
     "data": {
      "text/html": [
       "<div>\n",
       "<style scoped>\n",
       "    .dataframe tbody tr th:only-of-type {\n",
       "        vertical-align: middle;\n",
       "    }\n",
       "\n",
       "    .dataframe tbody tr th {\n",
       "        vertical-align: top;\n",
       "    }\n",
       "\n",
       "    .dataframe thead th {\n",
       "        text-align: right;\n",
       "    }\n",
       "</style>\n",
       "<table border=\"1\" class=\"dataframe\">\n",
       "  <thead>\n",
       "    <tr style=\"text-align: right;\">\n",
       "      <th></th>\n",
       "      <th>PhraseId</th>\n",
       "      <th>SentenceId</th>\n",
       "      <th>Phrase</th>\n",
       "      <th>Sentiment</th>\n",
       "    </tr>\n",
       "  </thead>\n",
       "  <tbody>\n",
       "    <tr>\n",
       "      <th>0</th>\n",
       "      <td>1</td>\n",
       "      <td>1</td>\n",
       "      <td>A series of escapades demonstrating the adage ...</td>\n",
       "      <td>1</td>\n",
       "    </tr>\n",
       "    <tr>\n",
       "      <th>1</th>\n",
       "      <td>2</td>\n",
       "      <td>1</td>\n",
       "      <td>A series of escapades demonstrating the adage ...</td>\n",
       "      <td>2</td>\n",
       "    </tr>\n",
       "    <tr>\n",
       "      <th>2</th>\n",
       "      <td>3</td>\n",
       "      <td>1</td>\n",
       "      <td>A series</td>\n",
       "      <td>2</td>\n",
       "    </tr>\n",
       "    <tr>\n",
       "      <th>3</th>\n",
       "      <td>4</td>\n",
       "      <td>1</td>\n",
       "      <td>A</td>\n",
       "      <td>2</td>\n",
       "    </tr>\n",
       "    <tr>\n",
       "      <th>4</th>\n",
       "      <td>5</td>\n",
       "      <td>1</td>\n",
       "      <td>series</td>\n",
       "      <td>2</td>\n",
       "    </tr>\n",
       "    <tr>\n",
       "      <th>...</th>\n",
       "      <td>...</td>\n",
       "      <td>...</td>\n",
       "      <td>...</td>\n",
       "      <td>...</td>\n",
       "    </tr>\n",
       "    <tr>\n",
       "      <th>156055</th>\n",
       "      <td>156056</td>\n",
       "      <td>8544</td>\n",
       "      <td>Hearst 's</td>\n",
       "      <td>2</td>\n",
       "    </tr>\n",
       "    <tr>\n",
       "      <th>156056</th>\n",
       "      <td>156057</td>\n",
       "      <td>8544</td>\n",
       "      <td>forced avuncular chortles</td>\n",
       "      <td>1</td>\n",
       "    </tr>\n",
       "    <tr>\n",
       "      <th>156057</th>\n",
       "      <td>156058</td>\n",
       "      <td>8544</td>\n",
       "      <td>avuncular chortles</td>\n",
       "      <td>3</td>\n",
       "    </tr>\n",
       "    <tr>\n",
       "      <th>156058</th>\n",
       "      <td>156059</td>\n",
       "      <td>8544</td>\n",
       "      <td>avuncular</td>\n",
       "      <td>2</td>\n",
       "    </tr>\n",
       "    <tr>\n",
       "      <th>156059</th>\n",
       "      <td>156060</td>\n",
       "      <td>8544</td>\n",
       "      <td>chortles</td>\n",
       "      <td>2</td>\n",
       "    </tr>\n",
       "  </tbody>\n",
       "</table>\n",
       "<p>156060 rows × 4 columns</p>\n",
       "</div>"
      ],
      "text/plain": [
       "        PhraseId  SentenceId  \\\n",
       "0              1           1   \n",
       "1              2           1   \n",
       "2              3           1   \n",
       "3              4           1   \n",
       "4              5           1   \n",
       "...          ...         ...   \n",
       "156055    156056        8544   \n",
       "156056    156057        8544   \n",
       "156057    156058        8544   \n",
       "156058    156059        8544   \n",
       "156059    156060        8544   \n",
       "\n",
       "                                                   Phrase  Sentiment  \n",
       "0       A series of escapades demonstrating the adage ...          1  \n",
       "1       A series of escapades demonstrating the adage ...          2  \n",
       "2                                                A series          2  \n",
       "3                                                       A          2  \n",
       "4                                                  series          2  \n",
       "...                                                   ...        ...  \n",
       "156055                                          Hearst 's          2  \n",
       "156056                          forced avuncular chortles          1  \n",
       "156057                                 avuncular chortles          3  \n",
       "156058                                          avuncular          2  \n",
       "156059                                           chortles          2  \n",
       "\n",
       "[156060 rows x 4 columns]"
      ]
     },
     "execution_count": 2,
     "metadata": {},
     "output_type": "execute_result"
    }
   ],
   "source": [
    "#1: Loading the dataset\n",
    "train_df = pd.read_csv(\"train.tsv\", sep=\"\\t\")\n",
    "\n",
    "train_df"
   ]
  },
  {
   "cell_type": "code",
   "execution_count": 3,
   "id": "40c769a8",
   "metadata": {},
   "outputs": [
    {
     "name": "stdout",
     "output_type": "stream",
     "text": [
      "<class 'pandas.core.frame.DataFrame'>\n",
      "RangeIndex: 156060 entries, 0 to 156059\n",
      "Data columns (total 4 columns):\n",
      " #   Column      Non-Null Count   Dtype \n",
      "---  ------      --------------   ----- \n",
      " 0   PhraseId    156060 non-null  int64 \n",
      " 1   SentenceId  156060 non-null  int64 \n",
      " 2   Phrase      156060 non-null  object\n",
      " 3   Sentiment   156060 non-null  int64 \n",
      "dtypes: int64(3), object(1)\n",
      "memory usage: 4.8+ MB\n",
      "None\n"
     ]
    }
   ],
   "source": [
    "#2 info about data\n",
    "print(train_df.info())"
   ]
  },
  {
   "cell_type": "code",
   "execution_count": 4,
   "id": "6dea32f2",
   "metadata": {},
   "outputs": [
    {
     "data": {
      "text/plain": [
       "2    79582\n",
       "3    32927\n",
       "1    27273\n",
       "4     9206\n",
       "0     7072\n",
       "Name: Sentiment, dtype: int64"
      ]
     },
     "execution_count": 4,
     "metadata": {},
     "output_type": "execute_result"
    }
   ],
   "source": [
    "#3: Counting the number of expressed sentiments by category\n",
    "sentiment_counts = train_df['Sentiment'].value_counts()\n",
    "\n",
    "sentiment_counts"
   ]
  },
  {
   "cell_type": "markdown",
   "id": "9b68d5ed",
   "metadata": {},
   "source": [
    "0 - negative,\n",
    "1 - somewhat negative,\n",
    "2 - neutral,\n",
    "3 - somewhat positive,\n",
    "4 - positive"
   ]
  },
  {
   "cell_type": "code",
   "execution_count": 5,
   "id": "b19021a0",
   "metadata": {},
   "outputs": [
    {
     "data": {
      "image/png": "[encoded data removed]",
      "text/plain": [
       "<Figure size 720x360 with 1 Axes>"
      ]
     },
     "metadata": {
      "needs_background": "light"
     },
     "output_type": "display_data"
    }
   ],
   "source": [
    "# Step 4: Histogram of sentiments by category\n",
    "plt.figure(figsize=(10, 5))\n",
    "sentiment_counts.plot(kind='bar')\n",
    "plt.title('Sentiments Counts')\n",
    "plt.xlabel('Sentiment')\n",
    "plt.ylabel('Count')\n",
    "plt.show()"
   ]
  },
  {
   "cell_type": "code",
   "execution_count": 6,
   "id": "68b8d6d2",
   "metadata": {},
   "outputs": [],
   "source": [
    "#5: Generating document term matrix using CountVectorizer\n",
    "vectorizer = CountVectorizer(token_pattern=r'\\b\\w+\\b')\n",
    "X = vectorizer.fit_transform(train_df['Phrase'])"
   ]
  },
  {
   "cell_type": "code",
   "execution_count": 7,
   "id": "a65c0049",
   "metadata": {},
   "outputs": [],
   "source": [
    "#6: Spliting dataset into training and testing (70% train, 30% test)\n",
    "X_train, X_test, y_train, y_test = train_test_split(X, train_df['Sentiment'], test_size=0.3, random_state=42)\n"
   ]
  },
  {
   "cell_type": "code",
   "execution_count": 8,
   "id": "89f4036f",
   "metadata": {},
   "outputs": [
    {
     "name": "stdout",
     "output_type": "stream",
     "text": [
      "Accuracy: 61.12%\n"
     ]
    }
   ],
   "source": [
    "#7: Creating and training a Multinomial Naive Bayes classifier and Computing the model accuracy\n",
    "nb_classifier = MultinomialNB()\n",
    "nb_classifier.fit(X_train, y_train)\n",
    "y_pred = nb_classifier.predict(X_test)\n",
    "accuracy = accuracy_score(y_test, y_pred)\n",
    "print(f\"Accuracy: {accuracy * 100:.2f}%\")"
   ]
  },
  {
   "cell_type": "code",
   "execution_count": 9,
   "id": "b7140f83",
   "metadata": {},
   "outputs": [],
   "source": [
    "#8/9: Spliting dataset for TF-IDF and filtering whole words from Phrase column\n",
    "X_tfidf = TfidfVectorizer(token_pattern=r'\\b\\w+\\b').fit_transform(train_df['Phrase'])\n",
    "X_train_tfidf, X_test_tfidf, y_train_tfidf, y_test_tfidf = train_test_split(X_tfidf, train_df['Sentiment'], test_size=0.3, random_state=42)\n"
   ]
  },
  {
   "cell_type": "code",
   "execution_count": 10,
   "id": "a895fd5c",
   "metadata": {},
   "outputs": [
    {
     "data": {
      "text/plain": [
       "MultinomialNB()"
      ]
     },
     "execution_count": 10,
     "metadata": {},
     "output_type": "execute_result"
    }
   ],
   "source": [
    "#10/11: Building the Text Classification Model using TF-IDF\n",
    "nb_classifier_tfidf = MultinomialNB()\n",
    "nb_classifier_tfidf.fit(X_train_tfidf, y_train_tfidf)"
   ]
  },
  {
   "cell_type": "code",
   "execution_count": 11,
   "id": "b9d8509c",
   "metadata": {},
   "outputs": [
    {
     "name": "stdout",
     "output_type": "stream",
     "text": [
      "Accuracy with TF-IDF: 58.04%\n"
     ]
    }
   ],
   "source": [
    "#12: Performing prediction on the test set\n",
    "y_pred_tfidf = nb_classifier_tfidf.predict(X_test_tfidf)\n",
    "accuracy_tfidf = accuracy_score(y_test_tfidf, y_pred_tfidf)\n",
    "print(f\"Accuracy with TF-IDF: {accuracy_tfidf * 100:.2f}%\")"
   ]
  },
  {
   "cell_type": "markdown",
   "id": "c65820b2",
   "metadata": {},
   "source": [
    "# Exercise 2"
   ]
  },
  {
   "cell_type": "markdown",
   "id": "41a7d357",
   "metadata": {},
   "source": [
    "### Entities\n",
    "\n",
    "United Kingdom\tOrganization\t0.67\n",
    "\n",
    "one\tQuantity\t0.94\n",
    "\n",
    "worst\tQuantity\t0.71\n",
    "\n",
    "last year\tDate\t0.99+\n",
    "\n",
    "Germany\tOrganization\t0.90\n",
    "\n",
    "pandemic\tEvent\t0.88\n",
    "\n",
    "global financial crisis\tEvent\t0.77\n",
    "\n",
    "Europe\tOrganization\t0.86\n",
    "\n",
    "5%\tQuantity\t0.99+\n",
    "\n",
    "last year\tDate\t0.99+\n",
    "\n",
    "EU\tOrganization\t0.98\n",
    "\n",
    "6.4%\tQuantity\t0.99+\n",
    "\n",
    "Eurostat\tOrganization\t0.98\n",
    "\n",
    "United States\tOrganization\t0.87\n",
    "\n",
    "3.5%\tQuantity\t0.99+\n",
    "\n",
    "prior year\tDate\t0.92\n",
    "\n",
    "Today\tDate\t0.98\n",
    "\n",
    "UK\tOrganization\t0.78\n",
    "\n",
    "finance minister\tPerson\t0.80\n",
    "\n",
    "Rishi Sunak\tPerson\t0.99+\n",
    "\n",
    "United Kingdom\tLocation\t0.99+\n",
    "\n",
    "January 5\tDate\t0.99+\n",
    "\n",
    "first quarter of 2021\tDate\t0.99+\n",
    "\n",
    "fourth quarter of 2020\tDate\t0.99+\n",
    "\n",
    "double dip\tQuantity\t0.70\n",
    "\n",
    "Sam Miley\tPerson\t0.99+\n",
    "\n",
    "London\tLocation\t0.96\n",
    "\n",
    "Centre for Economics and Business Research\tOrganization\t0.99+\n",
    "\n",
    "Friday\tDate\t0.99+\n",
    "\n",
    "EU\tOrganization\t0.88\n",
    "\n",
    "UK\tLocation\t0.35\n",
    "\n",
    "Brexit\tEvent\t0.98\n",
    "\n",
    "December 31\tDate\t0.99+\n"
   ]
  },
  {
   "cell_type": "markdown",
   "id": "8c379416",
   "metadata": {},
   "source": [
    "### Key Phrases\n",
    "\n",
    "The United Kingdom\n",
    "\n",
    "the worst recessions\n",
    "\n",
    "major economies\n",
    "\n",
    "last year\n",
    "\n",
    "Germany\n",
    "\n",
    "the pandemic\n",
    "\n",
    "the global financial crisis\n",
    "\n",
    "Provisional estimates\n",
    "\n",
    "Europe\n",
    "\n",
    "biggest economy\n",
    "\n",
    "5%\n",
    "\n",
    "last year\n",
    "\n",
    "EU GDP\n",
    "\n",
    "6.4%\n",
    "\n",
    "Eurostat\n",
    "\n",
    "The United States\n",
    "\n",
    "comparison\n",
    "\n",
    "GDP\n",
    "\n",
    "3.5%\n",
    "\n",
    "the prior year\n",
    "\n",
    "Today\n",
    "\n",
    "figures\n",
    "\n",
    "the economy\n",
    "\n",
    "a serious shock\n",
    "\n",
    "a result\n",
    "\n",
    "the pandemic\n",
    "\n",
    "countries\n",
    "\n",
    "the world\n",
    "\n",
    "UK finance minister Rishi Sunak\n",
    "\n",
    "a statement\n",
    "\n",
    "some positive signs\n",
    "\n",
    "the economy\n",
    "\n",
    "resilience\n",
    "\n",
    "the winter\n",
    "\n",
    "the current lockdown\n",
    "\n",
    "a significant impact\n",
    "\n",
    "many people and businesses\n",
    "\n",
    "The new national lockdown\n",
    "\n",
    "the United Kingdom\n",
    "\n",
    "January 5\n",
    "\n",
    "the economy\n",
    "\n",
    "the first quarter\n",
    "\n",
    "2021\n",
    "\n",
    "the return\n",
    "\n",
    "growth\n",
    "\n",
    "the fourth quarter\n",
    "\n",
    "2020\n",
    "\n",
    "a double dip [recession]\n",
    "\n",
    "Sam Miley\n",
    "\n",
    "an economist\n",
    "\n",
    "the London-based Centre\n",
    "\n",
    "Economics and Business Research\n",
    "\n",
    "a note\n",
    "\n",
    "Friday\n",
    "\n",
    "Disruption\n",
    "\n",
    "EU-UK trade\n",
    "\n",
    "the end\n",
    "\n",
    "the Brexit transition period\n",
    "\n",
    "December 31\n",
    "\n",
    "activity\n",
    "\n"
   ]
  },
  {
   "cell_type": "markdown",
   "id": "ba512035",
   "metadata": {},
   "source": [
    "# Exercise 3"
   ]
  }
 ],
 "metadata": {
  "kernelspec": {
   "display_name": "Python 3 (ipykernel)",
   "language": "python",
   "name": "python3"
  },
  "language_info": {
   "codemirror_mode": {
    "name": "ipython",
    "version": 3
   },
   "file_extension": ".py",
   "mimetype": "text/x-python",
   "name": "python",
   "nbconvert_exporter": "python",
   "pygments_lexer": "ipython3",
   "version": "3.9.12"
  }
 },
 "nbformat": 4,
 "nbformat_minor": 5
}
