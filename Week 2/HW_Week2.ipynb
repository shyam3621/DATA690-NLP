{
 "cells": [
  {
   "cell_type": "markdown",
   "id": "b1884e0b",
   "metadata": {},
   "source": [
    "## Step 1&2  Installing beautifulsoup4 and lxml"
   ]
  },
  {
   "cell_type": "code",
   "execution_count": 1,
   "id": "e0a527a1",
   "metadata": {},
   "outputs": [
    {
     "name": "stdout",
     "output_type": "stream",
     "text": [
      "Requirement already satisfied: beautifulsoup4 in /Users/shyam/opt/anaconda3/lib/python3.9/site-packages (4.11.1)\r\n",
      "Requirement already satisfied: soupsieve>1.2 in /Users/shyam/opt/anaconda3/lib/python3.9/site-packages (from beautifulsoup4) (2.3.1)\r\n"
     ]
    }
   ],
   "source": [
    "!pip install beautifulsoup4"
   ]
  },
  {
   "cell_type": "code",
   "execution_count": 2,
   "id": "df39211d",
   "metadata": {},
   "outputs": [
    {
     "name": "stdout",
     "output_type": "stream",
     "text": [
      "Requirement already satisfied: lxml in /Users/shyam/opt/anaconda3/lib/python3.9/site-packages (4.8.0)\r\n"
     ]
    }
   ],
   "source": [
    "!pip install lxml\n"
   ]
  },
  {
   "cell_type": "markdown",
   "id": "5ba99fc8",
   "metadata": {},
   "source": [
    "### 3. Connect to the website using urllib.request\n",
    "### 4. Create an object called ‘soup’ using the source\n",
    "### 5. Print page title, get attributes, values, and beginning navigation. Get specific values.\n",
    "### 6. Find all the paragraph instead of just one in the previous query\n",
    "### 7. You can iterate through them using ‘str(paragraph.text)’\n",
    "### 8. Grab all the links through ‘url.get(‘here)\n",
    "### 9. Just grab the text using ‘get_text’"
   ]
  },
  {
   "cell_type": "code",
   "execution_count": 12,
   "id": "916e0a52",
   "metadata": {},
   "outputs": [
    {
     "name": "stdout",
     "output_type": "stream",
     "text": [
      "\n",
      " Page Title: \n",
      " Python Programming Tutorials\n",
      "\n",
      " Link tag attributes: \n",
      " {'href': '/', 'class': ['brand-logo']}\n",
      "\n",
      "Paragraphs : \n",
      "Oh, hello! This is a wonderful page meant to let you practice web scraping. This page was originally created to help people work with the Beautiful Soup 4 library.\n",
      "The following table gives some general information for the following programming languages:\n",
      "I think it's clear that, on a scale of 1-10, python is:\n",
      "Javascript (dynamic data) test:\n",
      "y u bad tho?\n",
      "Whᶐt hαppéns now¿\n",
      "sitemap\n",
      "Contact: Harrison@pythonprogramming.net.\n",
      "Programming is a superpower.\n",
      "\n",
      "Links \n",
      "\n",
      "Link : / --> Text: None\n",
      "Link : # --> Text: None\n",
      "Link : / --> Text: Home\n",
      "Link : /+=1/ --> Text: +=1\n",
      "Link : /support/ --> Text: Support the Content\n",
      "Link : https://goo.gl/7zgAVQ --> Text: None\n",
      "Link : /login/ --> Text: Log in\n",
      "Link : /register/ --> Text: Sign up\n",
      "Link : / --> Text: Home\n",
      "Link : /+=1/ --> Text: +=1\n",
      "Link : /support/ --> Text: Support the Content\n",
      "Link : https://goo.gl/7zgAVQ --> Text: None\n",
      "Link : /login/ --> Text: Log in\n",
      "Link : /register/ --> Text: Sign up\n",
      "Link : https://www.crummy.com/software/BeautifulSoup/bs4/doc/ --> Text: Beautiful Soup 4\n",
      "Link : /sitemap.xml --> Text: sitemap\n",
      "Link : /support-donate/ --> Text: Support this Website!\n",
      "Link : /consulting/ --> Text: Consulting and Contracting\n",
      "Link : https://www.facebook.com/pythonprogramming.net/ --> Text: Facebook\n",
      "Link : https://twitter.com/sentdex --> Text: Twitter\n",
      "Link : https://instagram.com/sentdex --> Text: Instagram\n",
      "Link : /about/tos/ --> Text: Terms and Conditions\n",
      "Link : /about/privacy-policy/ --> Text: Privacy Policy\n",
      "Link : https://xkcd.com/353/ --> Text: Programming is a superpower.\n"
     ]
    }
   ],
   "source": [
    "import urllib.request\n",
    "from bs4 import BeautifulSoup\n",
    "\n",
    "#3: Connect to the website\n",
    "url = \"https://pythonprogramming.net/parsememcparseface/\"\n",
    "response = urllib.request.urlopen(url)\n",
    "\n",
    "#4: Create a BeautifulSoup object\n",
    "soup = BeautifulSoup(response, 'html.parser')\n",
    "\n",
    "#5: Print page title\n",
    "print(\"\\n Page Title: \\n\", soup.title.string)\n",
    "\n",
    "# Get attributes and values\n",
    "link = soup.find('a')\n",
    "print(\"\\n Link tag attributes: \\n\", link.attrs)\n",
    "\n",
    "#6: Find all paragraphs\n",
    "paragraphs = soup.find_all('p')\n",
    "\n",
    "# Step 7: Iterate through paragraphs and print their text\n",
    "print(\"\\nParagraphs : \")\n",
    "for paragraph in paragraphs:\n",
    "    print(str(paragraph.text))\n",
    "\n",
    "#8: Find all links\n",
    "links = soup.find_all('a')\n",
    "\n",
    "\n",
    "#9: Iterating through links and print their text\n",
    "print(\"\\nLinks \\n\")\n",
    "\n",
    "for link in links:\n",
    "  print(\"Link :\", link.get(\"href\"), \"--> Text:\", link.string)\n"
   ]
  }
 ],
 "metadata": {
  "kernelspec": {
   "display_name": "Python 3 (ipykernel)",
   "language": "python",
   "name": "python3"
  },
  "language_info": {
   "codemirror_mode": {
    "name": "ipython",
    "version": 3
   },
   "file_extension": ".py",
   "mimetype": "text/x-python",
   "name": "python",
   "nbconvert_exporter": "python",
   "pygments_lexer": "ipython3",
   "version": "3.9.12"
  }
 },
 "nbformat": 4,
 "nbformat_minor": 5
}
