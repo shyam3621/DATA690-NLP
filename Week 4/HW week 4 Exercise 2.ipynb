{
 "cells": [
  {
   "cell_type": "code",
   "execution_count": 1,
   "id": "1f3543d4",
   "metadata": {},
   "outputs": [],
   "source": [
    "import re\n",
    "import nltk\n",
    "from nltk.corpus import stopwords\n",
    "from nltk.tokenize import word_tokenize\n",
    "from nltk.stem import PorterStemmer\n",
    "from nltk.stem import WordNetLemmatizer\n",
    "from textblob import TextBlob\n",
    "\n",
    "# Given text\n",
    "sentence = \"\"\"The larger Broncos will be available with 35-inch off-road tires and will be able\n",
    "to drive through water nearly 3 feet, 10 inches deep. It has independent front suspension, unlike its main competitor, the Jeep Wrangler. Independent suspension, used\n",
    "on almost all modern passenger vehicles, generally provides a smoother ride and better on -\n",
    "road handling than a single solid axle. It still has a solid axle in the back though, like most\n",
    "pickup trucks, a design suited to hard use. Like the Wrangler, both the two- and four-door\n",
    "Bronco will have a removable roofs and doors. Buyers will be able to choose either a hard\n",
    "roof that can be removed in sections, a cloth top, or both. Unlike the Wrangler, though, the\n",
    "Bronco's doors will fit inside the vehicle after being removed. The Bronco will be available\n",
    "with a choice of either a 10-speed automatic or seven-speed manual transmission. (The\n",
    "manual transmission will have six gears for ordinary driving, plus a seventh for low speed\n",
    "off-road driving.) It will be powered by either a 270- horsepower 2.3-liter turbocharged 4-\n",
    "cylinder engine or a 310-horsepower 2.7-liter turbocharged V6. While all of the new Bronco\n",
    "SUVs are designed for hard off-road use, the Bronco Sport isn't quite as hard-core in its\n",
    "capabilities. It also has more convenience features than the more truck-like Bronco. While\n",
    "it's based on engineering that's similar to car-like crossover SUVs, Ford says that it's still\n",
    "intended for serious off-road use. Ford engineers boasted of the off-road testing the\n",
    "prototypes have been put through, including driving through deep sand, up steep inclines ,\n",
    "and crawling across boulder-strewn trails.\"\"\"\n"
   ]
  },
  {
   "cell_type": "markdown",
   "id": "a5f4c940",
   "metadata": {},
   "source": [
    "### 1. Replace special characters with empty spaces. You can use regex or any other method\n"
   ]
  },
  {
   "cell_type": "code",
   "execution_count": 2,
   "id": "4b07ca82",
   "metadata": {},
   "outputs": [],
   "source": [
    "sentence = re.sub(r'[^\\w\\s]', ' ', sentence)"
   ]
  },
  {
   "cell_type": "markdown",
   "id": "e87fcb46",
   "metadata": {},
   "source": [
    "### 2. Remove multiple empty spaces and replace them with a single space\n"
   ]
  },
  {
   "cell_type": "code",
   "execution_count": 3,
   "id": "edcadfaa",
   "metadata": {},
   "outputs": [],
   "source": [
    "sentence = re.sub(r'\\s+', ' ', sentence)"
   ]
  },
  {
   "cell_type": "markdown",
   "id": "63b97e69",
   "metadata": {},
   "source": [
    "### 3. Remove any single character\n"
   ]
  },
  {
   "cell_type": "code",
   "execution_count": 4,
   "id": "ba79575a",
   "metadata": {},
   "outputs": [],
   "source": [
    "sentence = ' '.join([word for word in sentence.split() if len(word) > 1])"
   ]
  },
  {
   "cell_type": "markdown",
   "id": "e1280fb5",
   "metadata": {},
   "source": [
    "### 4. Convert the text to all lowercase\n"
   ]
  },
  {
   "cell_type": "code",
   "execution_count": 5,
   "id": "e6946415",
   "metadata": {},
   "outputs": [],
   "source": [
    "sentence = sentence.lower()"
   ]
  },
  {
   "cell_type": "markdown",
   "id": "840ad61e",
   "metadata": {},
   "source": [
    "### 5. Split the text into individual words\n"
   ]
  },
  {
   "cell_type": "code",
   "execution_count": 6,
   "id": "3d19525b",
   "metadata": {},
   "outputs": [],
   "source": [
    "words = word_tokenize(sentence)"
   ]
  },
  {
   "cell_type": "markdown",
   "id": "9d75122b",
   "metadata": {},
   "source": [
    "### 6. Remove stopwords"
   ]
  },
  {
   "cell_type": "code",
   "execution_count": 7,
   "id": "65f7a7d4",
   "metadata": {},
   "outputs": [
    {
     "name": "stderr",
     "output_type": "stream",
     "text": [
      "[nltk_data] Downloading package stopwords to /Users/shyam/nltk_data...\n",
      "[nltk_data]   Package stopwords is already up-to-date!\n"
     ]
    }
   ],
   "source": [
    "nltk.download('stopwords')\n",
    "stop_words = set(stopwords.words('english'))\n",
    "filtered_words = [word for word in words if word not in stop_words]"
   ]
  },
  {
   "cell_type": "markdown",
   "id": "912da5b8",
   "metadata": {},
   "source": [
    "### 7. Tokenize, stem, and lemmatize the text\n"
   ]
  },
  {
   "cell_type": "code",
   "execution_count": 8,
   "id": "ba312e04",
   "metadata": {},
   "outputs": [],
   "source": [
    "porter_stemmer = PorterStemmer()\n",
    "stemmed_words = [porter_stemmer.stem(word) for word in filtered_words]\n",
    "\n",
    "wordnet_lemmatizer = WordNetLemmatizer()\n",
    "lemmatized_words = [wordnet_lemmatizer.lemmatize(word) for word in stemmed_words]\n",
    "\n",
    "processed_text = ' '.join(lemmatized_words)\n"
   ]
  },
  {
   "cell_type": "markdown",
   "id": "b51e7813",
   "metadata": {},
   "source": [
    "### 6. What is the overall sentiment and subjectivity of the text"
   ]
  },
  {
   "cell_type": "code",
   "execution_count": 9,
   "id": "6e4358b4",
   "metadata": {},
   "outputs": [
    {
     "name": "stdout",
     "output_type": "stream",
     "text": [
      "Processed Text: larger bronco avail 35 inch road tire abl drive water nearli foot 10 inch deep independ front suspens unlik main competitor jeep wrangler independ suspens use almost modern passeng vehicl gener provid smoother ride better road handl singl solid axl still solid axl back though like pickup truck design suit hard use like wrangler two four door bronco remov roof door buyer abl choos either hard roof remov section cloth top unlik wrangler though bronco door fit insid vehicl remov bronco avail choic either 10 speed automat seven speed manual transmiss manual transmiss six gear ordinari drive plu seventh low speed road drive power either 270 horsepow liter turbocharg cylind engin 310 horsepow liter turbocharg v6 new bronco suv design hard road use bronco sport quit hard core capabl also conveni featur truck like bronco base engin similar car like crossov suv ford say still intend seriou road use ford engin boast road test prototyp put includ drive deep sand steep inclin crawl across boulder strewn trail\n",
      " \n",
      "Overall Sentiment: -0.003349282296650745\n",
      "\n",
      "Subjectivity: 0.41339712918660293\n"
     ]
    }
   ],
   "source": [
    "blob = TextBlob(processed_text)\n",
    "sentiment = blob.sentiment\n",
    "\n",
    "print(\"Processed Text:\", processed_text)\n",
    "print(\" \\nOverall Sentiment:\", sentiment.polarity)\n",
    "print(\"\\nSubjectivity:\", sentiment.subjectivity)"
   ]
  },
  {
   "cell_type": "code",
   "execution_count": null,
   "id": "36626a00",
   "metadata": {},
   "outputs": [],
   "source": []
  }
 ],
 "metadata": {
  "kernelspec": {
   "display_name": "Python 3 (ipykernel)",
   "language": "python",
   "name": "python3"
  },
  "language_info": {
   "codemirror_mode": {
    "name": "ipython",
    "version": 3
   },
   "file_extension": ".py",
   "mimetype": "text/x-python",
   "name": "python",
   "nbconvert_exporter": "python",
   "pygments_lexer": "ipython3",
   "version": "3.9.12"
  }
 },
 "nbformat": 4,
 "nbformat_minor": 5
}
